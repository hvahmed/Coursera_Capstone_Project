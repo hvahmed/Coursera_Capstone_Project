{
    "cells": [
        {
            "cell_type": "markdown",
            "metadata": {},
            "source": "## 1) Introduction/Business Problem\nClearly define a problem or an idea of your choice, where you would need to leverage the Foursquare location data to solve or execute. Remember that data science problems always target an audience and are meant to help a group of stakeholders solve a problem, so make sure that you explicitly describe your audience and why they would care about your problem.\n\n### 1.1 Background\nToronto is the largest city in Ontario, Canada. It is a large and diverse metropolis that is home to 2.93 million people. Over 180 languages and dialects are spoken in Toronto, with 79 multi-lingual publications published in Toronto. This is definitely a multi-cultural city. There are approximately 7,500 restaurants, bars and nightclubs in Toronto.\n\n \n### 1.2 Business Proposition\n\nSally Roberts has recently returned to Toronto after living in Japan for 5 years. While living in Tokyo, she fell in love with Japanese food. She has decided to open a Japanese restaurant in Toronto. As more people are looking towards improving their eating habits, Japanese food offers a delicious and healthy option. This is an additional reason why Sally feels she could have great success and potentially consistent profit. However, as with any business, opening a new restaurant requires serious considerations and good planning. The most important consideration is the location of the restaurant. So, this project will attempt to answer the questions \u201cWhere should the investor open a Japanese Restaurant?\u201d and \u201cHow many similar restaurants are operating in the area under consideration?\u201d\nThis study aims to help the client gain a better understanding of the boroughs and neighbourhoods of Toronto in terms of restaurant density. This should help the client decide which area would be best to open a Japanese restaurant.\n\n### 1.3 Target Audience\n\nThis Japanese restaurant will be aimed at people from all walks of life so that would include all of Toronto\u2019s population of 2.9 million as well as its 27.5 tourists (annually). A central location would add to the appeal along with the price and menu choices.\n\n## 2) Data\nDescribe the data that you will be using to solve the problem or execute your idea. Remember that you will need to use the Foursquare location data to solve the problem or execute your idea. You can absolutely use other datasets in combination with the Foursquare location data. So make sure that you provide adequate explanation and discussion, with examples, of the data that you will be using, even if it is only Foursquare location data.\n\n### 2.1 Data Description\nIn order to complete this study, data is needed to analyse restaurants in Toronto. Data relating to Toronto\u2019s boroughs and neighbourhoods as well data about restaurants in these areas.\n\n### 2.1 Data Sources\nData will be obtained from the following sources: \\\nhttps://en.wikipedia.org/wiki/List_of_postal_codes_of_Canada:_M \\\n        o\tthis will provide the data for the different boroughs and neighbourhoods in Toronto with postcodes.\\\nhttp://cocl.us/Geospatial_data \\\n        o\tthis source will provide the geographical data for each location i.e. its longitude and latitude.\\\nFoursquare APIs \\\n        o\tThis source has the all the venue data which will then be filtered for this specific requirement \u2013 restaurants in Toronto and Japanese restaurants in Toronto.\n"
        },
        {
            "cell_type": "code",
            "execution_count": null,
            "metadata": {},
            "outputs": [],
            "source": ""
        }
    ],
    "metadata": {
        "kernelspec": {
            "display_name": "Python 3.7",
            "language": "python",
            "name": "python3"
        },
        "language_info": {
            "codemirror_mode": {
                "name": "ipython",
                "version": 3
            },
            "file_extension": ".py",
            "mimetype": "text/x-python",
            "name": "python",
            "nbconvert_exporter": "python",
            "pygments_lexer": "ipython3",
            "version": "3.7.10"
        }
    },
    "nbformat": 4,
    "nbformat_minor": 1
}